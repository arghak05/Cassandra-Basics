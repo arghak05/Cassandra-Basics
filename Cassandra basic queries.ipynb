{
 "cells": [
  {
   "cell_type": "code",
   "execution_count": 1,
   "id": "90d84a20",
   "metadata": {},
   "outputs": [
    {
     "name": "stdout",
     "output_type": "stream",
     "text": [
      "Requirement already satisfied: cassandra-driver in c:\\users\\argha\\anaconda3\\lib\\site-packages (3.25.0)\n",
      "Requirement already satisfied: six>=1.9 in c:\\users\\argha\\anaconda3\\lib\\site-packages (from cassandra-driver) (1.16.0)\n",
      "Requirement already satisfied: geomet<0.3,>=0.1 in c:\\users\\argha\\anaconda3\\lib\\site-packages (from cassandra-driver) (0.2.1.post1)\n",
      "Requirement already satisfied: click in c:\\users\\argha\\anaconda3\\lib\\site-packages (from geomet<0.3,>=0.1->cassandra-driver) (8.0.4)\n",
      "Requirement already satisfied: colorama in c:\\users\\argha\\anaconda3\\lib\\site-packages (from click->geomet<0.3,>=0.1->cassandra-driver) (0.4.4)\n"
     ]
    }
   ],
   "source": [
    "!pip install cassandra-driver\n"
   ]
  },
  {
   "cell_type": "code",
   "execution_count": 2,
   "id": "c2a3e7d8",
   "metadata": {},
   "outputs": [
    {
     "name": "stdout",
     "output_type": "stream",
     "text": [
      "3.25.0\n"
     ]
    }
   ],
   "source": [
    "import cassandra\n",
    "print(cassandra.__version__)"
   ]
  },
  {
   "cell_type": "code",
   "execution_count": 4,
   "id": "eaa06e81",
   "metadata": {},
   "outputs": [
    {
     "name": "stdout",
     "output_type": "stream",
     "text": [
      "4.0.0.6816\n"
     ]
    }
   ],
   "source": [
    "# FOR CONNECTING TO CLOUD SYSTEM\n",
    "from cassandra.cluster import Cluster\n",
    "from cassandra.auth import PlainTextAuthProvider\n",
    "\n",
    "cloud_config= {\n",
    "        'secure_connect_bundle': 'E:\\secure-connect-test123.zip'\n",
    "}\n",
    "auth_provider = PlainTextAuthProvider('PkcfitKMxsrjSfdtnKkjqXFd', 'uF.hf54vdib4n6tnahi3gf5ce.vkufF-Il9ansKjL6cOr2e7NkIk0PL9,jDe947AgO1XYaGN7mYr-Bs7+Tgwaj.pQzRav9rXyB72mZSBorp+ZQXA4etj_fJ5HJjjG2r4')\n",
    "cluster = Cluster(cloud=cloud_config, auth_provider=auth_provider)\n",
    "session = cluster.connect()\n",
    "\n",
    "row = session.execute(\"select release_version from system.local\").one()\n",
    "if row:\n",
    "    print(row[0])\n",
    "else:\n",
    "    print(\"An error occurred.\")"
   ]
  },
  {
   "cell_type": "code",
   "execution_count": null,
   "id": "a8c61127",
   "metadata": {},
   "outputs": [],
   "source": [
    "# FOR CONNECTING TO LOCAL SYSTEM\n",
    "from cassandra.cluster import Cluster\n",
    "#from cassandra.auth import PlainTextAuthProvider\n",
    "\n",
    "#cloud_config= {'secure_connect_bundle':r'C:\\Users\\Admin\\Downloads\\secure-connect-test.zip'}\n",
    "#auth_provider = PlainTextAuthProvider('xbCLnGiTgbFemYjnNKyXmdJk', 'uZQFsScneNQ8+WhqNmLehyRXNZ4HZ233ktFIw1fkCulK,czUQ7hGkJJze4lzHU2Mcl7vOMm56,7sQJYiFLIUwQzjw4BEeWufXeaMC8vG1exmzGaoQ+glmBLW8+48tIAd')\n",
    "cluster = Cluster()\n",
    "session = cluster.connect()\n",
    "\n",
    "row = session.execute(\"select release_version from system.local\")\n",
    "print(row)\n"
   ]
  },
  {
   "cell_type": "code",
   "execution_count": null,
   "id": "4c23a7c8",
   "metadata": {},
   "outputs": [],
   "source": [
    "# create keyspace in database\n",
    "row = session.execute(\"CREATE KEYSPACE home WITH replication = {'class': 'SimpleStrategy', 'replication_factor' : 4};\")\n"
   ]
  },
  {
   "cell_type": "code",
   "execution_count": 5,
   "id": "3272be3f",
   "metadata": {},
   "outputs": [],
   "source": [
    "#use keyspace\n",
    "row=session.execute(\"use home;\")"
   ]
  },
  {
   "cell_type": "code",
   "execution_count": null,
   "id": "9efe94ae",
   "metadata": {},
   "outputs": [],
   "source": [
    "# alter keyspace\n",
    "row=session.execute(\"ALTER KEYSPACE home WITH replication = {'class': 'SimpleStrategy', 'replication_factor' : 3};\")\n"
   ]
  },
  {
   "cell_type": "code",
   "execution_count": null,
   "id": "b357fd33",
   "metadata": {},
   "outputs": [],
   "source": [
    "#dropping the keyspace\n",
    "row=session.execute(\"DROP KEYSPACE home;\")"
   ]
  },
  {
   "cell_type": "code",
   "execution_count": null,
   "id": "19c2478b",
   "metadata": {},
   "outputs": [],
   "source": [
    "try:\n",
    "    row=session.execute(\"use home;\")\n",
    "except Exception as e:\n",
    "    print(e)"
   ]
  },
  {
   "cell_type": "code",
   "execution_count": null,
   "id": "2622edaf",
   "metadata": {},
   "outputs": [],
   "source": [
    "row = session.execute(\"CREATE KEYSPACE home WITH replication = {'class': 'SimpleStrategy', 'replication_factor' : 4};\")"
   ]
  },
  {
   "cell_type": "code",
   "execution_count": 18,
   "id": "26b7bf6b",
   "metadata": {},
   "outputs": [],
   "source": [
    "#creating table in the keyspace\n",
    "row=session.execute(\"CREATE TABLE Members(id int PRIMARY KEY,name text,age int,height int);\")"
   ]
  },
  {
   "cell_type": "code",
   "execution_count": 19,
   "id": "1b107c07",
   "metadata": {},
   "outputs": [],
   "source": [
    "#inserting into table\n",
    "row=session.execute(\"INSERT INTO Members(id,name,age,height) VALUES (1,'mohit',25,160);\")"
   ]
  },
  {
   "cell_type": "code",
   "execution_count": 20,
   "id": "5ed4a0bb",
   "metadata": {},
   "outputs": [],
   "source": [
    "row=session.execute(\"INSERT INTO Members(id,name,age,height) VALUES (2,'shubham',26,165);\")\n",
    "row=session.execute(\"INSERT INTO Members(id,name,age,height) VALUES (3,'aradhana',25,142);\")\n",
    "row=session.execute(\"INSERT INTO Members(id,name,age,height) VALUES (4,'rakesh',55,157);\")\n",
    "row=session.execute(\"INSERT INTO Members(id,name,age,height) VALUES (5,'poonam',52,145);\")\n",
    "row=session.execute(\"INSERT INTO Members(id,name,age,height) VALUES (6,'seema',30,145);\")"
   ]
  },
  {
   "cell_type": "code",
   "execution_count": 21,
   "id": "dfc8fdd9",
   "metadata": {},
   "outputs": [
    {
     "name": "stdout",
     "output_type": "stream",
     "text": [
      "Row(id=5, age=52, height=145, name='poonam')\n",
      "Row(id=1, age=25, height=160, name='mohit')\n",
      "Row(id=2, age=26, height=165, name='shubham')\n",
      "Row(id=4, age=55, height=157, name='rakesh')\n",
      "Row(id=6, age=30, height=145, name='seema')\n",
      "Row(id=3, age=25, height=142, name='aradhana')\n"
     ]
    }
   ],
   "source": [
    "#view the data in table\n",
    "row=session.execute(\"select * from Members;\")\n",
    "for i in row:\n",
    "    print(i)"
   ]
  },
  {
   "cell_type": "code",
   "execution_count": 22,
   "id": "5655fc0c",
   "metadata": {},
   "outputs": [],
   "source": [
    "#not inserting value in some column\n",
    "row=session.execute(\"INSERT INTO Members(id,name,age) VALUES (9,'sakshi',32);\")"
   ]
  },
  {
   "cell_type": "code",
   "execution_count": 23,
   "id": "0ee41a03",
   "metadata": {},
   "outputs": [
    {
     "name": "stdout",
     "output_type": "stream",
     "text": [
      "Row(id=5, age=52, height=145, name='poonam')\n",
      "Row(id=1, age=25, height=160, name='mohit')\n",
      "Row(id=2, age=26, height=165, name='shubham')\n",
      "Row(id=4, age=55, height=157, name='rakesh')\n",
      "Row(id=6, age=30, height=145, name='seema')\n",
      "Row(id=9, age=32, height=None, name='sakshi')\n",
      "Row(id=3, age=25, height=142, name='aradhana')\n"
     ]
    }
   ],
   "source": [
    "#view the data in table \n",
    "row=session.execute(\"select * from Members;\")\n",
    "for i in row:\n",
    "    print(i)\n",
    "#null where data not given"
   ]
  },
  {
   "cell_type": "code",
   "execution_count": 24,
   "id": "c6cf3ae9",
   "metadata": {},
   "outputs": [],
   "source": [
    "#alter existing table (adding more columns to table)\n",
    "row=session.execute(\"ALTER TABLE Members ADD email varchar;\")"
   ]
  },
  {
   "cell_type": "code",
   "execution_count": 25,
   "id": "e9eb9d85",
   "metadata": {},
   "outputs": [
    {
     "name": "stdout",
     "output_type": "stream",
     "text": [
      "Row(id=5, age=52, email=None, height=145, name='poonam')\n",
      "Row(id=1, age=25, email=None, height=160, name='mohit')\n",
      "Row(id=2, age=26, email=None, height=165, name='shubham')\n",
      "Row(id=4, age=55, email=None, height=157, name='rakesh')\n",
      "Row(id=6, age=30, email=None, height=145, name='seema')\n",
      "Row(id=9, age=32, email=None, height=None, name='sakshi')\n",
      "Row(id=3, age=25, email=None, height=142, name='aradhana')\n"
     ]
    }
   ],
   "source": [
    "row=session.execute(\"select * from Members;\")\n",
    "for i in row:\n",
    "    print(i)"
   ]
  },
  {
   "cell_type": "code",
   "execution_count": 26,
   "id": "0d38ad23",
   "metadata": {},
   "outputs": [],
   "source": [
    "#dropping the table\n",
    "row=session.execute(\"DROP TABLE if exists Member;\")"
   ]
  },
  {
   "cell_type": "code",
   "execution_count": 27,
   "id": "9157b64d",
   "metadata": {},
   "outputs": [],
   "source": [
    "#truncating (removing all data from table)\n",
    "row=session.execute(\"TRUNCATE Members;\")"
   ]
  },
  {
   "cell_type": "code",
   "execution_count": 28,
   "id": "76f39757",
   "metadata": {},
   "outputs": [],
   "source": [
    "#table is empty now\n",
    "for i in row:\n",
    "    print(i)"
   ]
  },
  {
   "cell_type": "code",
   "execution_count": 29,
   "id": "286adc47",
   "metadata": {},
   "outputs": [],
   "source": [
    "#INSERING DATA \n",
    "row=session.execute(\"INSERT INTO Members(id,name,age,height,email) VALUES (2,'shubham',26,165,'memohit@gmail.com');\")\n",
    "row=session.execute(\"INSERT INTO Members(id,name,age,height) VALUES (3,'aradhana',25,142);\")\n",
    "row=session.execute(\"INSERT INTO Members(id,name,age,height) VALUES (4,'rakesh',55,157);\")\n",
    "row=session.execute(\"INSERT INTO Members(id,name,age,height) VALUES (5,'poonam',52,145);\")\n",
    "row=session.execute(\"INSERT INTO Members(id,name,age,height) VALUES (6,'seema',30,145);\")"
   ]
  },
  {
   "cell_type": "code",
   "execution_count": 30,
   "id": "5b36a764",
   "metadata": {},
   "outputs": [],
   "source": [
    "#update existing table \n",
    "row=session.execute(\"UPDATE home.Members SET name= 'Mohit Raghav',age = 28 WHERE id=1;\")\n"
   ]
  },
  {
   "cell_type": "code",
   "execution_count": 31,
   "id": "caa81472",
   "metadata": {},
   "outputs": [
    {
     "name": "stdout",
     "output_type": "stream",
     "text": [
      "Row(id=5, age=52, email=None, height=145, name='poonam')\n",
      "Row(id=1, age=28, email=None, height=None, name='Mohit Raghav')\n",
      "Row(id=2, age=26, email='memohit@gmail.com', height=165, name='shubham')\n",
      "Row(id=4, age=55, email=None, height=157, name='rakesh')\n",
      "Row(id=6, age=30, email=None, height=145, name='seema')\n",
      "Row(id=3, age=25, email=None, height=142, name='aradhana')\n"
     ]
    }
   ],
   "source": [
    "#view the data in table \n",
    "row=session.execute(\"select * from Members;\")\n",
    "for i in row:\n",
    "    print(i)"
   ]
  },
  {
   "cell_type": "code",
   "execution_count": 32,
   "id": "45ec13f4",
   "metadata": {},
   "outputs": [],
   "source": [
    "#delete a particular row or a part of row\n",
    "row=session.execute(\"DELETE age FROM Members WHERE id=3;\")\n"
   ]
  },
  {
   "cell_type": "code",
   "execution_count": 33,
   "id": "574322cb",
   "metadata": {},
   "outputs": [
    {
     "name": "stdout",
     "output_type": "stream",
     "text": [
      "Row(id=5, age=52, email=None, height=145, name='poonam')\n",
      "Row(id=1, age=28, email=None, height=None, name='Mohit Raghav')\n",
      "Row(id=2, age=26, email='memohit@gmail.com', height=165, name='shubham')\n",
      "Row(id=4, age=55, email=None, height=157, name='rakesh')\n",
      "Row(id=6, age=30, email=None, height=145, name='seema')\n",
      "Row(id=3, age=None, email=None, height=142, name='aradhana')\n"
     ]
    }
   ],
   "source": [
    "#view the data in table \n",
    "row=session.execute(\"select * from Members;\")\n",
    "for i in row:\n",
    "    print(i)"
   ]
  },
  {
   "cell_type": "code",
   "execution_count": 34,
   "id": "8160a7a6",
   "metadata": {},
   "outputs": [],
   "source": [
    "#selecting particular data\n",
    "row=session.execute(\"SELECT name, age FROM Members WHERE id = 1;\")"
   ]
  },
  {
   "cell_type": "code",
   "execution_count": 35,
   "id": "de4650b8",
   "metadata": {},
   "outputs": [
    {
     "name": "stdout",
     "output_type": "stream",
     "text": [
      "Row(name='Mohit Raghav', age=28)\n"
     ]
    }
   ],
   "source": [
    "for i in row:\n",
    "    print(i)"
   ]
  },
  {
   "cell_type": "code",
   "execution_count": null,
   "id": "ee6df962",
   "metadata": {},
   "outputs": [],
   "source": []
  }
 ],
 "metadata": {
  "kernelspec": {
   "display_name": "Python 3 (ipykernel)",
   "language": "python",
   "name": "python3"
  },
  "language_info": {
   "codemirror_mode": {
    "name": "ipython",
    "version": 3
   },
   "file_extension": ".py",
   "mimetype": "text/x-python",
   "name": "python",
   "nbconvert_exporter": "python",
   "pygments_lexer": "ipython3",
   "version": "3.9.12"
  }
 },
 "nbformat": 4,
 "nbformat_minor": 5
}
